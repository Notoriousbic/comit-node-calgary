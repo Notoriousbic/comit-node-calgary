{
 "cells": [
  {
   "cell_type": "code",
   "execution_count": 13,
   "metadata": {},
   "outputs": [
    {
     "name": "stdout",
     "output_type": "stream",
     "text": [
      "7\n",
      "An error \"person is not defined\" occurred. Please retry later\n",
      "Closing database connection\n"
     ]
    }
   ],
   "source": [
    "try {\n",
    "    const x = 5;\n",
    "    const y = 2;\n",
    "    console.log(x + y);\n",
    "    person\n",
    "    console.log('After error: ' + x + y);\n",
    "} catch (error) {\n",
    "    console.log(`An error \"${error.message}\" occurred. Please retry later`);\n",
    "} finally {\n",
    "    console.log('Closing database connection')\n",
    "    // databaseConnection.close();\n",
    "}"
   ]
  },
  {
   "cell_type": "code",
   "execution_count": 12,
   "metadata": {},
   "outputs": [
    {
     "data": {
      "text/plain": [
       "Infinity"
      ]
     },
     "execution_count": 12,
     "metadata": {},
     "output_type": "execute_result"
    }
   ],
   "source": [
    "5 / 0"
   ]
  },
  {
   "cell_type": "code",
   "execution_count": 14,
   "metadata": {},
   "outputs": [
    {
     "name": "stdout",
     "output_type": "stream",
     "text": [
      "7\n"
     ]
    },
    {
     "ename": "ReferenceError",
     "evalue": "person is not defined",
     "output_type": "error",
     "traceback": [
      "evalmachine.<anonymous>:4",
      "person",
      "^",
      "",
      "ReferenceError: person is not defined",
      "    at evalmachine.<anonymous>:4:1",
      "    at Script.runInThisContext (vm.js:120:20)",
      "    at Object.runInThisContext (vm.js:311:38)",
      "    at run ([eval]:1054:15)",
      "    at onRunRequest ([eval]:888:18)",
      "    at onMessage ([eval]:848:13)",
      "    at process.emit (events.js:321:20)",
      "    at emit (internal/child_process.js:876:12)",
      "    at processTicksAndRejections (internal/process/task_queues.js:85:21)"
     ]
    }
   ],
   "source": [
    "const x = 5;\n",
    "const y = 2;\n",
    "console.log(x + y);\n",
    "person\n",
    "console.log('After error: ' + x + y);"
   ]
  },
  {
   "cell_type": "code",
   "execution_count": 18,
   "metadata": {},
   "outputs": [
    {
     "name": "stdout",
     "output_type": "stream",
     "text": [
      "7\n",
      "Closing database connection\n"
     ]
    },
    {
     "ename": "Error",
     "evalue": "something bad happened",
     "output_type": "error",
     "traceback": [
      "evalmachine.<anonymous>:9",
      "     throw new Error('something bad happened')",
      "     ^",
      "",
      "Error: something bad happened",
      "    at evalmachine.<anonymous>:9:12",
      "    at Script.runInThisContext (vm.js:120:20)",
      "    at Object.runInThisContext (vm.js:311:38)",
      "    at run ([eval]:1054:15)",
      "    at onRunRequest ([eval]:888:18)",
      "    at onMessage ([eval]:848:13)",
      "    at process.emit (events.js:321:20)",
      "    at emit (internal/child_process.js:876:12)",
      "    at processTicksAndRejections (internal/process/task_queues.js:85:21)"
     ]
    }
   ],
   "source": [
    "try {\n",
    "    const x = 5;\n",
    "    const y = 2;\n",
    "    console.log(x + y);\n",
    "    person\n",
    "    console.log('After error: ' + x + y);\n",
    "} catch (error) {\n",
    "//     console.log(`An error \"${error.message}\" occurred. Please retry later`);\n",
    "     throw new Error('something bad happened')\n",
    "} finally {\n",
    "    console.log('Closing database connection')\n",
    "    // databaseConnection.close();\n",
    "}"
   ]
  },
  {
   "cell_type": "code",
   "execution_count": null,
   "metadata": {},
   "outputs": [],
   "source": []
  }
 ],
 "metadata": {
  "kernelspec": {
   "display_name": "Javascript (Node.js)",
   "language": "javascript",
   "name": "javascript"
  },
  "language_info": {
   "file_extension": ".js",
   "mimetype": "application/javascript",
   "name": "javascript",
   "version": "12.16.0"
  }
 },
 "nbformat": 4,
 "nbformat_minor": 4
}
