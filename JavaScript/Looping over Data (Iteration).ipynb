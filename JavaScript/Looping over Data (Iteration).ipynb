{
 "cells": [
  {
   "cell_type": "code",
   "execution_count": 3,
   "metadata": {},
   "outputs": [
    {
     "data": {
      "text/plain": [
       "[\n",
       "  { name: 'melinda', position: 'designer', years: 5 },\n",
       "  { name: 'katie', position: 'strategist', years: 7 },\n",
       "  { name: 'mary', position: 'developer', years: 2 },\n",
       "  { name: 'justin', position: 'manager', years: 25 },\n",
       "  { name: 'chris', position: 'developer', years: 1 }\n",
       "]"
      ]
     },
     "execution_count": 3,
     "metadata": {},
     "output_type": "execute_result"
    }
   ],
   "source": [
    "team = [\n",
    "    { name: 'melinda', position: 'designer', years: 5 },\n",
    "    { name: 'katie', position: 'strategist', years: 7 },\n",
    "    { name: 'mary', position: 'developer', years: 2 },\n",
    "    { name: 'justin', position: 'manager', years: 25 },\n",
    "    { name: 'chris', position: 'developer', years: 1 },\n",
    "]"
   ]
  },
  {
   "cell_type": "code",
   "execution_count": 4,
   "metadata": {},
   "outputs": [
    {
     "name": "stdout",
     "output_type": "stream",
     "text": [
      "melinda works as a designer\n",
      "katie works as a strategist\n",
      "mary works as a developer\n",
      "justin works as a manager\n",
      "chris works as a developer\n"
     ]
    }
   ],
   "source": [
    "for (let person of team) {\n",
    "    console.log(`${person.name} works as a ${person.position}`);\n",
    "}"
   ]
  },
  {
   "cell_type": "code",
   "execution_count": 7,
   "metadata": {},
   "outputs": [],
   "source": [
    "function addOne(person) {\n",
    "    const newValue = person.years + 1;\n",
    "    console.log(newValue);\n",
    "    return newValue;\n",
    "}"
   ]
  },
  {
   "cell_type": "code",
   "execution_count": 8,
   "metadata": {},
   "outputs": [
    {
     "name": "stdout",
     "output_type": "stream",
     "text": [
      "6\n",
      "8\n",
      "3\n",
      "26\n",
      "2\n"
     ]
    }
   ],
   "source": [
    "team.forEach(addOne)"
   ]
  },
  {
   "cell_type": "code",
   "execution_count": 9,
   "metadata": {},
   "outputs": [
    {
     "name": "stdout",
     "output_type": "stream",
     "text": [
      "6\n",
      "8\n",
      "3\n",
      "26\n",
      "2\n"
     ]
    }
   ],
   "source": [
    "team.forEach((person) => {\n",
    "    const newValue = person.years + 1;\n",
    "    console.log(newValue);\n",
    "    return newValue;\n",
    "})"
   ]
  },
  {
   "cell_type": "code",
   "execution_count": 10,
   "metadata": {},
   "outputs": [
    {
     "data": {
      "text/plain": [
       "[ 4, 7, 2 ]"
      ]
     },
     "execution_count": 10,
     "metadata": {},
     "output_type": "execute_result"
    }
   ],
   "source": [
    "values = [4, 7, 2]"
   ]
  },
  {
   "cell_type": "code",
   "execution_count": 11,
   "metadata": {},
   "outputs": [
    {
     "name": "stdout",
     "output_type": "stream",
     "text": [
      "4\n",
      "7\n",
      "2\n"
     ]
    }
   ],
   "source": [
    "values.forEach((val) => console.log(val))"
   ]
  },
  {
   "cell_type": "code",
   "execution_count": 13,
   "metadata": {},
   "outputs": [
    {
     "name": "stdout",
     "output_type": "stream",
     "text": [
      "4\n",
      "7\n",
      "2\n"
     ]
    }
   ],
   "source": [
    "values.forEach(function(val) {\n",
    "  console.log(val)  \n",
    "}) "
   ]
  },
  {
   "cell_type": "code",
   "execution_count": 14,
   "metadata": {},
   "outputs": [
    {
     "data": {
      "text/plain": [
       "[ 8, 14, 4 ]"
      ]
     },
     "execution_count": 14,
     "metadata": {},
     "output_type": "execute_result"
    }
   ],
   "source": [
    "results = [];\n",
    "values.forEach((value) => {\n",
    "    const newValue = value * 2;\n",
    "    results.push(newValue)\n",
    "})\n",
    "results;"
   ]
  },
  {
   "cell_type": "code",
   "execution_count": 16,
   "metadata": {},
   "outputs": [
    {
     "data": {
      "text/plain": [
       "[ 8, 14, 4 ]"
      ]
     },
     "execution_count": 16,
     "metadata": {},
     "output_type": "execute_result"
    }
   ],
   "source": [
    "results = values.map((value) => value * 2)"
   ]
  },
  {
   "cell_type": "code",
   "execution_count": 18,
   "metadata": {},
   "outputs": [
    {
     "data": {
      "text/plain": [
       "[ 7 ]"
      ]
     },
     "execution_count": 18,
     "metadata": {},
     "output_type": "execute_result"
    }
   ],
   "source": [
    "results = [];\n",
    "values.forEach((value) => {\n",
    "    if (value > 5) {\n",
    "      results.push(value)  \n",
    "    }\n",
    "})\n",
    "results;"
   ]
  },
  {
   "cell_type": "code",
   "execution_count": 19,
   "metadata": {},
   "outputs": [
    {
     "data": {
      "text/plain": [
       "[ 7 ]"
      ]
     },
     "execution_count": 19,
     "metadata": {},
     "output_type": "execute_result"
    }
   ],
   "source": [
    "filteredResults = values.filter((value) => value > 5)"
   ]
  },
  {
   "cell_type": "code",
   "execution_count": null,
   "metadata": {},
   "outputs": [],
   "source": []
  }
 ],
 "metadata": {
  "kernelspec": {
   "display_name": "Javascript (Node.js)",
   "language": "javascript",
   "name": "javascript"
  },
  "language_info": {
   "file_extension": ".js",
   "mimetype": "application/javascript",
   "name": "javascript",
   "version": "12.16.0"
  }
 },
 "nbformat": 4,
 "nbformat_minor": 4
}
